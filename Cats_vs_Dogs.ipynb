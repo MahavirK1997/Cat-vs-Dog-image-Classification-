{
  "nbformat": 4,
  "nbformat_minor": 0,
  "metadata": {
    "colab": {
      "provenance": [],
      "gpuType": "T4"
    },
    "kernelspec": {
      "name": "python3",
      "display_name": "Python 3"
    },
    "language_info": {
      "name": "python"
    },
    "accelerator": "GPU"
  },
  "cells": [
    {
      "cell_type": "code",
      "source": [
        "!mkdir -p ~/.kaggle\n",
        "!cp kaggle.json ~/.kaggle/"
      ],
      "metadata": {
        "id": "s-OjGAsXHF56"
      },
      "execution_count": null,
      "outputs": []
    },
    {
      "cell_type": "code",
      "execution_count": null,
      "metadata": {
        "colab": {
          "base_uri": "https://localhost:8080/"
        },
        "id": "-ufpuLFUFTz5",
        "outputId": "f0633e98-fdcc-4ac9-b7bb-80b4a17f82df"
      },
      "outputs": [
        {
          "output_type": "stream",
          "name": "stdout",
          "text": [
            "Downloading dogs-vs-cats.zip to /content\n",
            "100% 1.06G/1.06G [00:09<00:00, 275MB/s]\n",
            "100% 1.06G/1.06G [00:09<00:00, 125MB/s]\n"
          ]
        }
      ],
      "source": [
        "!kaggle datasets download -d salader/dogs-vs-cats      # Downloading the dataset from Kaggle"
      ]
    },
    {
      "cell_type": "code",
      "source": [
        "import zipfile    # Extract the content from Zipfile\n",
        "zip_ref = zipfile.ZipFile('/content/dogs-vs-cats.zip', 'r')\n",
        "zip_ref.extractall('/content')\n",
        "zip_ref.close()"
      ],
      "metadata": {
        "id": "DHIHYHejHokq"
      },
      "execution_count": null,
      "outputs": []
    },
    {
      "cell_type": "code",
      "source": [
        "# Importing important libraries\n",
        "import tensorflow as tf\n",
        "from tensorflow import keras\n",
        "from keras import Sequential\n",
        "from keras.layers import Dense, Conv2D, MaxPooling2D, Flatten, BatchNormalization, Dropout"
      ],
      "metadata": {
        "id": "Nwpl0TdjIHeh"
      },
      "execution_count": null,
      "outputs": []
    },
    {
      "cell_type": "code",
      "source": [
        "# generators\n",
        "train_ds = keras.utils.image_dataset_from_directory(\n",
        "    directory = '/content/train',\n",
        "    labels = 'inferred',\n",
        "    label_mode = 'int',\n",
        "    batch_size = 32,\n",
        "    image_size = (256, 256)\n",
        ")\n",
        "\n",
        "validation_ds = keras.utils.image_dataset_from_directory(\n",
        "    directory = '/content/test',\n",
        "    labels = 'inferred',\n",
        "    label_mode = 'int',\n",
        "    batch_size = 32,\n",
        "    image_size = (256, 256)\n",
        ")"
      ],
      "metadata": {
        "colab": {
          "base_uri": "https://localhost:8080/"
        },
        "id": "AO-UiYuTI1WS",
        "outputId": "51d70625-b27c-40f6-f211-5e73bd1669e6"
      },
      "execution_count": null,
      "outputs": [
        {
          "output_type": "stream",
          "name": "stdout",
          "text": [
            "Found 20000 files belonging to 2 classes.\n",
            "Found 5000 files belonging to 2 classes.\n"
          ]
        }
      ]
    },
    {
      "cell_type": "code",
      "source": [
        "# Normalizing all the images\n",
        "def process(image,label):\n",
        "  image = tf.cast(image/255. ,tf.float32)\n",
        "  return image, label\n",
        "\n",
        "train_ds = train_ds.map(process)\n",
        "validation_ds = validation_ds.map(process)"
      ],
      "metadata": {
        "id": "IAD7l2suJyId"
      },
      "execution_count": null,
      "outputs": []
    },
    {
      "cell_type": "code",
      "source": [
        "# Create CNN model with 3 conv layers and 3 fully connected dense layer\n",
        "\n",
        "model = Sequential()\n",
        "\n",
        "model.add(Conv2D(32, kernel_size=(3,3), padding='valid', activation = 'relu', input_shape=(256,256,3)))\n",
        "model.add(MaxPooling2D(pool_size=(2,2),strides=2, padding='valid'))\n",
        "\n",
        "model.add(Conv2D(64, kernel_size=(3,3), padding='valid', activation = 'relu', input_shape=(256,256,3)))\n",
        "model.add(MaxPooling2D(pool_size=(2,2),strides=2, padding='valid'))\n",
        "\n",
        "model.add(Conv2D(128, kernel_size=(3,3), padding='valid', activation = 'relu', input_shape=(256,256,3)))\n",
        "model.add(MaxPooling2D(pool_size=(2,2),strides=2, padding='valid'))\n",
        "\n",
        "model.add(Flatten())\n",
        "\n",
        "model.add(Dense(128, activation='relu'))\n",
        "model.add(Dense(64, activation='relu'))\n",
        "model.add(Dense(1, activation='sigmoid'))"
      ],
      "metadata": {
        "id": "R1LIJ-IWKYGB"
      },
      "execution_count": null,
      "outputs": []
    },
    {
      "cell_type": "code",
      "source": [
        "model.summary()"
      ],
      "metadata": {
        "colab": {
          "base_uri": "https://localhost:8080/"
        },
        "id": "uYUfbW-VLost",
        "outputId": "29e40f83-8656-4131-bacd-c19bcd2f9ffa"
      },
      "execution_count": null,
      "outputs": [
        {
          "output_type": "stream",
          "name": "stdout",
          "text": [
            "Model: \"sequential\"\n",
            "_________________________________________________________________\n",
            " Layer (type)                Output Shape              Param #   \n",
            "=================================================================\n",
            " conv2d (Conv2D)             (None, 254, 254, 32)      896       \n",
            "                                                                 \n",
            " max_pooling2d (MaxPooling2  (None, 127, 127, 32)      0         \n",
            " D)                                                              \n",
            "                                                                 \n",
            " conv2d_1 (Conv2D)           (None, 125, 125, 64)      18496     \n",
            "                                                                 \n",
            " max_pooling2d_1 (MaxPoolin  (None, 62, 62, 64)        0         \n",
            " g2D)                                                            \n",
            "                                                                 \n",
            " conv2d_2 (Conv2D)           (None, 60, 60, 128)       73856     \n",
            "                                                                 \n",
            " max_pooling2d_2 (MaxPoolin  (None, 30, 30, 128)       0         \n",
            " g2D)                                                            \n",
            "                                                                 \n",
            " flatten (Flatten)           (None, 115200)            0         \n",
            "                                                                 \n",
            " dense (Dense)               (None, 128)               14745728  \n",
            "                                                                 \n",
            " dense_1 (Dense)             (None, 64)                8256      \n",
            "                                                                 \n",
            " dense_2 (Dense)             (None, 1)                 65        \n",
            "                                                                 \n",
            "=================================================================\n",
            "Total params: 14847297 (56.64 MB)\n",
            "Trainable params: 14847297 (56.64 MB)\n",
            "Non-trainable params: 0 (0.00 Byte)\n",
            "_________________________________________________________________\n"
          ]
        }
      ]
    },
    {
      "cell_type": "code",
      "source": [
        "model.compile(optimizer='adam',loss='binary_crossentropy',metrics=['accuracy'])"
      ],
      "metadata": {
        "id": "4q32raQALqnk"
      },
      "execution_count": null,
      "outputs": []
    },
    {
      "cell_type": "code",
      "source": [
        "history = model.fit(train_ds,epochs=10,validation_data=validation_ds)"
      ],
      "metadata": {
        "colab": {
          "base_uri": "https://localhost:8080/"
        },
        "id": "d8c3r1n3L7QJ",
        "outputId": "cb67caa2-2391-45f5-843a-054e5cbba5d6"
      },
      "execution_count": null,
      "outputs": [
        {
          "output_type": "stream",
          "name": "stdout",
          "text": [
            "Epoch 1/10\n",
            "625/625 [==============================] - 60s 85ms/step - loss: 0.6388 - accuracy: 0.6370 - val_loss: 0.5828 - val_accuracy: 0.7024\n",
            "Epoch 2/10\n",
            "625/625 [==============================] - 53s 84ms/step - loss: 0.5234 - accuracy: 0.7389 - val_loss: 0.5534 - val_accuracy: 0.7368\n",
            "Epoch 3/10\n",
            "625/625 [==============================] - 59s 94ms/step - loss: 0.4001 - accuracy: 0.8138 - val_loss: 0.5928 - val_accuracy: 0.7478\n",
            "Epoch 4/10\n",
            "625/625 [==============================] - 56s 88ms/step - loss: 0.2525 - accuracy: 0.8897 - val_loss: 0.9415 - val_accuracy: 0.7298\n",
            "Epoch 5/10\n",
            "625/625 [==============================] - 53s 84ms/step - loss: 0.1417 - accuracy: 0.9463 - val_loss: 0.9258 - val_accuracy: 0.7580\n",
            "Epoch 6/10\n",
            "625/625 [==============================] - 53s 84ms/step - loss: 0.0833 - accuracy: 0.9715 - val_loss: 1.2090 - val_accuracy: 0.7434\n",
            "Epoch 7/10\n",
            "625/625 [==============================] - 52s 83ms/step - loss: 0.0615 - accuracy: 0.9795 - val_loss: 1.4309 - val_accuracy: 0.7344\n",
            "Epoch 8/10\n",
            "625/625 [==============================] - 53s 84ms/step - loss: 0.0558 - accuracy: 0.9825 - val_loss: 1.3639 - val_accuracy: 0.7480\n",
            "Epoch 9/10\n",
            "625/625 [==============================] - 52s 82ms/step - loss: 0.0370 - accuracy: 0.9883 - val_loss: 1.6517 - val_accuracy: 0.7458\n",
            "Epoch 10/10\n",
            "625/625 [==============================] - 56s 89ms/step - loss: 0.0402 - accuracy: 0.9877 - val_loss: 1.5900 - val_accuracy: 0.7468\n"
          ]
        }
      ]
    },
    {
      "cell_type": "code",
      "source": [
        "# With Batch_normalization and Dropout layers with Dropout threshold 0.2\n",
        "\n",
        "model = Sequential()\n",
        "\n",
        "model.add(Conv2D(32, kernel_size=(3,3), padding='valid', activation = 'relu', input_shape=(256,256,3)))\n",
        "model.add(BatchNormalization())\n",
        "model.add(MaxPooling2D(pool_size=(2,2),strides=2, padding='valid'))\n",
        "\n",
        "model.add(Conv2D(64, kernel_size=(3,3), padding='valid', activation = 'relu', input_shape=(256,256,3)))\n",
        "model.add(BatchNormalization())\n",
        "model.add(MaxPooling2D(pool_size=(2,2),strides=2, padding='valid'))\n",
        "\n",
        "model.add(Conv2D(128, kernel_size=(3,3), padding='valid', activation = 'relu', input_shape=(256,256,3)))\n",
        "model.add(BatchNormalization())\n",
        "model.add(MaxPooling2D(pool_size=(2,2),strides=2, padding='valid'))\n",
        "\n",
        "model.add(Flatten())\n",
        "\n",
        "model.add(Dense(128, activation='relu'))\n",
        "model.add(Dropout(0.2))\n",
        "model.add(Dense(64, activation='relu'))\n",
        "model.add(Dropout(0.2))\n",
        "model.add(Dense(1, activation='sigmoid'))"
      ],
      "metadata": {
        "id": "ruxIO2hkMc3k"
      },
      "execution_count": null,
      "outputs": []
    },
    {
      "cell_type": "code",
      "source": [
        "model.compile(optimizer='adam',loss='binary_crossentropy',metrics=['accuracy'])"
      ],
      "metadata": {
        "id": "ctlXa85tQZDa"
      },
      "execution_count": null,
      "outputs": []
    },
    {
      "cell_type": "code",
      "source": [
        "history = model.fit(train_ds,epochs=10,validation_data=validation_ds)"
      ],
      "metadata": {
        "colab": {
          "base_uri": "https://localhost:8080/"
        },
        "id": "LdWzI-uwQg8z",
        "outputId": "58f8b698-b6ed-4680-d5ab-c74888d75cdb"
      },
      "execution_count": null,
      "outputs": [
        {
          "output_type": "stream",
          "name": "stdout",
          "text": [
            "Epoch 1/10\n",
            "625/625 [==============================] - 76s 109ms/step - loss: 1.1721 - accuracy: 0.5720 - val_loss: 0.7312 - val_accuracy: 0.6586\n",
            "Epoch 2/10\n",
            "625/625 [==============================] - 67s 106ms/step - loss: 0.6035 - accuracy: 0.6828 - val_loss: 0.8956 - val_accuracy: 0.6586\n",
            "Epoch 3/10\n",
            "625/625 [==============================] - 66s 105ms/step - loss: 0.5330 - accuracy: 0.7397 - val_loss: 0.4914 - val_accuracy: 0.7584\n",
            "Epoch 4/10\n",
            "625/625 [==============================] - 66s 105ms/step - loss: 0.4623 - accuracy: 0.7822 - val_loss: 0.8671 - val_accuracy: 0.6262\n",
            "Epoch 5/10\n",
            "625/625 [==============================] - 65s 103ms/step - loss: 0.4151 - accuracy: 0.8117 - val_loss: 0.4936 - val_accuracy: 0.7870\n",
            "Epoch 6/10\n",
            "625/625 [==============================] - 68s 109ms/step - loss: 0.3469 - accuracy: 0.8479 - val_loss: 0.5323 - val_accuracy: 0.7350\n",
            "Epoch 7/10\n",
            "625/625 [==============================] - 65s 103ms/step - loss: 0.2727 - accuracy: 0.8871 - val_loss: 0.5512 - val_accuracy: 0.7536\n",
            "Epoch 8/10\n",
            "625/625 [==============================] - 68s 108ms/step - loss: 0.2108 - accuracy: 0.9150 - val_loss: 0.8423 - val_accuracy: 0.7536\n",
            "Epoch 9/10\n",
            "625/625 [==============================] - 66s 104ms/step - loss: 0.1567 - accuracy: 0.9424 - val_loss: 0.7723 - val_accuracy: 0.7560\n",
            "Epoch 10/10\n",
            "625/625 [==============================] - 65s 103ms/step - loss: 0.1220 - accuracy: 0.9584 - val_loss: 0.6516 - val_accuracy: 0.7906\n"
          ]
        }
      ]
    },
    {
      "cell_type": "code",
      "source": [
        "# # With Batch_normalization and Dropout layers with Dropout threshold 0.4\n",
        "model = Sequential()\n",
        "\n",
        "model.add(Conv2D(32, kernel_size=(3,3), padding='valid', activation = 'relu', input_shape=(256,256,3)))\n",
        "model.add(BatchNormalization())\n",
        "model.add(MaxPooling2D(pool_size=(2,2),strides=2, padding='valid'))\n",
        "\n",
        "model.add(Conv2D(64, kernel_size=(3,3), padding='valid', activation = 'relu', input_shape=(256,256,3)))\n",
        "model.add(BatchNormalization())\n",
        "model.add(MaxPooling2D(pool_size=(2,2),strides=2, padding='valid'))\n",
        "\n",
        "model.add(Conv2D(128, kernel_size=(3,3), padding='valid', activation = 'relu', input_shape=(256,256,3)))\n",
        "model.add(BatchNormalization())\n",
        "model.add(MaxPooling2D(pool_size=(2,2),strides=2, padding='valid'))\n",
        "\n",
        "model.add(Flatten())\n",
        "\n",
        "model.add(Dense(128, activation='relu'))\n",
        "model.add(Dropout(0.4))\n",
        "model.add(Dense(64, activation='relu'))\n",
        "model.add(Dropout(0.4))\n",
        "model.add(Dense(1, activation='sigmoid'))"
      ],
      "metadata": {
        "id": "hYHHfCXaLW_c"
      },
      "execution_count": null,
      "outputs": []
    },
    {
      "cell_type": "code",
      "source": [
        "model.compile(optimizer='adam',loss='binary_crossentropy',metrics=['accuracy'])"
      ],
      "metadata": {
        "id": "QxeI0O4OLdmk"
      },
      "execution_count": null,
      "outputs": []
    },
    {
      "cell_type": "code",
      "source": [
        "history = model.fit(train_ds,epochs=15,validation_data=validation_ds)"
      ],
      "metadata": {
        "colab": {
          "base_uri": "https://localhost:8080/"
        },
        "id": "m7Ll34HILgEa",
        "outputId": "03f13ca9-60a3-4afb-db86-b1effaba362a"
      },
      "execution_count": null,
      "outputs": [
        {
          "output_type": "stream",
          "name": "stdout",
          "text": [
            "Epoch 1/15\n",
            "625/625 [==============================] - 66s 104ms/step - loss: 0.5799 - accuracy: 0.6880 - val_loss: 0.5820 - val_accuracy: 0.7106\n",
            "Epoch 2/15\n",
            "625/625 [==============================] - 67s 107ms/step - loss: 0.5590 - accuracy: 0.7048 - val_loss: 0.5548 - val_accuracy: 0.7258\n",
            "Epoch 3/15\n",
            "625/625 [==============================] - 65s 104ms/step - loss: 0.5457 - accuracy: 0.7137 - val_loss: 0.6423 - val_accuracy: 0.6258\n",
            "Epoch 4/15\n",
            "625/625 [==============================] - 65s 104ms/step - loss: 0.5316 - accuracy: 0.7233 - val_loss: 0.6255 - val_accuracy: 0.6490\n",
            "Epoch 5/15\n",
            "625/625 [==============================] - 67s 107ms/step - loss: 0.5251 - accuracy: 0.7253 - val_loss: 0.5312 - val_accuracy: 0.7506\n",
            "Epoch 6/15\n",
            "625/625 [==============================] - 66s 105ms/step - loss: 0.5147 - accuracy: 0.7358 - val_loss: 0.4966 - val_accuracy: 0.7820\n",
            "Epoch 7/15\n",
            "625/625 [==============================] - 65s 104ms/step - loss: 0.5216 - accuracy: 0.7303 - val_loss: 0.4976 - val_accuracy: 0.7780\n",
            "Epoch 8/15\n",
            "625/625 [==============================] - 67s 107ms/step - loss: 0.5003 - accuracy: 0.7460 - val_loss: 0.4933 - val_accuracy: 0.8142\n",
            "Epoch 9/15\n",
            "625/625 [==============================] - 65s 104ms/step - loss: 0.4968 - accuracy: 0.7477 - val_loss: 0.5988 - val_accuracy: 0.8160\n",
            "Epoch 10/15\n",
            "625/625 [==============================] - 65s 104ms/step - loss: 0.4930 - accuracy: 0.7474 - val_loss: 0.4931 - val_accuracy: 0.7804\n",
            "Epoch 11/15\n",
            "625/625 [==============================] - 64s 103ms/step - loss: 0.4878 - accuracy: 0.7530 - val_loss: 0.5572 - val_accuracy: 0.7102\n",
            "Epoch 12/15\n",
            "625/625 [==============================] - 65s 104ms/step - loss: 0.4829 - accuracy: 0.7567 - val_loss: 0.4808 - val_accuracy: 0.8052\n",
            "Epoch 13/15\n",
            "625/625 [==============================] - 67s 108ms/step - loss: 0.4896 - accuracy: 0.7531 - val_loss: 0.5171 - val_accuracy: 0.8214\n",
            "Epoch 14/15\n",
            "625/625 [==============================] - 68s 107ms/step - loss: 0.4825 - accuracy: 0.7577 - val_loss: 0.5121 - val_accuracy: 0.8006\n",
            "Epoch 15/15\n",
            "625/625 [==============================] - 65s 104ms/step - loss: 0.4839 - accuracy: 0.7552 - val_loss: 0.5822 - val_accuracy: 0.7810\n"
          ]
        }
      ]
    },
    {
      "cell_type": "markdown",
      "source": [
        "As we see, by using batch normaization and Dropout layer we can reduce the overfitting."
      ],
      "metadata": {
        "id": "vwB7ZYxNhiOz"
      }
    },
    {
      "cell_type": "code",
      "source": [],
      "metadata": {
        "id": "AJkrBDfRhj5s"
      },
      "execution_count": null,
      "outputs": []
    }
  ]
}